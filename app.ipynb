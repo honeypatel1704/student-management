{
  "nbformat": 4,
  "nbformat_minor": 0,
  "metadata": {
    "colab": {
      "provenance": [],
      "authorship_tag": "ABX9TyMSOiKW5cChfRZr+XjVIpw5",
      "include_colab_link": true
    },
    "kernelspec": {
      "name": "python3",
      "display_name": "Python 3"
    },
    "language_info": {
      "name": "python"
    }
  },
  "cells": [
    {
      "cell_type": "markdown",
      "metadata": {
        "id": "view-in-github",
        "colab_type": "text"
      },
      "source": [
        "<a href=\"https://colab.research.google.com/github/honeypatel1704/student-management/blob/main/app.ipynb\" target=\"_parent\"><img src=\"https://colab.research.google.com/assets/colab-badge.svg\" alt=\"Open In Colab\"/></a>"
      ]
    },
    {
      "cell_type": "code",
      "source": [
        "!pip install flask\n",
        "!pip install pymongo\n",
        "!pip install python-dotenv"
      ],
      "metadata": {
        "colab": {
          "base_uri": "https://localhost:8080/"
        },
        "id": "FpjecJZ16pEL",
        "outputId": "5c206181-fb38-44c2-8a3c-9fb96f9e364f"
      },
      "execution_count": null,
      "outputs": [
        {
          "output_type": "stream",
          "name": "stdout",
          "text": [
            "Requirement already satisfied: flask in /usr/local/lib/python3.11/dist-packages (3.1.0)\n",
            "Requirement already satisfied: Werkzeug>=3.1 in /usr/local/lib/python3.11/dist-packages (from flask) (3.1.3)\n",
            "Requirement already satisfied: Jinja2>=3.1.2 in /usr/local/lib/python3.11/dist-packages (from flask) (3.1.6)\n",
            "Requirement already satisfied: itsdangerous>=2.2 in /usr/local/lib/python3.11/dist-packages (from flask) (2.2.0)\n",
            "Requirement already satisfied: click>=8.1.3 in /usr/local/lib/python3.11/dist-packages (from flask) (8.1.8)\n",
            "Requirement already satisfied: blinker>=1.9 in /usr/local/lib/python3.11/dist-packages (from flask) (1.9.0)\n",
            "Requirement already satisfied: MarkupSafe>=2.0 in /usr/local/lib/python3.11/dist-packages (from Jinja2>=3.1.2->flask) (3.0.2)\n",
            "Collecting pymongo\n",
            "  Downloading pymongo-4.11.3-cp311-cp311-manylinux_2_17_x86_64.manylinux2014_x86_64.whl.metadata (22 kB)\n",
            "Collecting dnspython<3.0.0,>=1.16.0 (from pymongo)\n",
            "  Downloading dnspython-2.7.0-py3-none-any.whl.metadata (5.8 kB)\n",
            "Downloading pymongo-4.11.3-cp311-cp311-manylinux_2_17_x86_64.manylinux2014_x86_64.whl (1.4 MB)\n",
            "\u001b[2K   \u001b[90m━━━━━━━━━━━━━━━━━━━━━━━━━━━━━━━━━━━━━━━━\u001b[0m \u001b[32m1.4/1.4 MB\u001b[0m \u001b[31m19.8 MB/s\u001b[0m eta \u001b[36m0:00:00\u001b[0m\n",
            "\u001b[?25hDownloading dnspython-2.7.0-py3-none-any.whl (313 kB)\n",
            "\u001b[2K   \u001b[90m━━━━━━━━━━━━━━━━━━━━━━━━━━━━━━━━━━━━━━━━\u001b[0m \u001b[32m313.6/313.6 kB\u001b[0m \u001b[31m23.8 MB/s\u001b[0m eta \u001b[36m0:00:00\u001b[0m\n",
            "\u001b[?25hInstalling collected packages: dnspython, pymongo\n",
            "Successfully installed dnspython-2.7.0 pymongo-4.11.3\n",
            "Collecting python-dotenv\n",
            "  Downloading python_dotenv-1.1.0-py3-none-any.whl.metadata (24 kB)\n",
            "Downloading python_dotenv-1.1.0-py3-none-any.whl (20 kB)\n",
            "Installing collected packages: python-dotenv\n",
            "Successfully installed python-dotenv-1.1.0\n"
          ]
        }
      ]
    },
    {
      "cell_type": "code",
      "source": [
        "from flask import Flask, render_template, request, redirect, url_for\n",
        "from pymongo import MongoClient\n",
        "from datetime import datetime"
      ],
      "metadata": {
        "id": "46fNuSoW7Qxl"
      },
      "execution_count": null,
      "outputs": []
    },
    {
      "cell_type": "code",
      "source": [
        "app = Flask(__name__)"
      ],
      "metadata": {
        "id": "MHTTKyj77U4U"
      },
      "execution_count": null,
      "outputs": []
    },
    {
      "cell_type": "code",
      "source": [
        "# MongoDB configuration\n",
        "client = MongoClient('mongodb://localhost:27017/')\n",
        "db = client['student_db']\n",
        "students = db['students']"
      ],
      "metadata": {
        "id": "X1lWiDM37ZMz"
      },
      "execution_count": null,
      "outputs": []
    },
    {
      "cell_type": "code",
      "source": [
        "@app.route('/')\n",
        "def home():\n",
        "    return render_template('base.html')"
      ],
      "metadata": {
        "id": "bhq-bit37dq-"
      },
      "execution_count": null,
      "outputs": []
    },
    {
      "cell_type": "code",
      "source": [
        "@app.route('/add_student', methods=['GET', 'POST'])\n",
        "def add_student():\n",
        "    if request.method == 'POST':\n",
        "        student_data = {\n",
        "            'name': request.form['name'],\n",
        "            'father_name': request.form['father_name'],\n",
        "            'mother_name': request.form['mother_name'],\n",
        "            'birthdate': datetime.strptime(request.form['birthdate'], '%Y-%m-%d'),\n",
        "            'address': request.form['address'],\n",
        "            'student_phone': request.form['student_phone'],\n",
        "            'father_phone': request.form['father_phone'],\n",
        "            'enrollment_number': request.form['enrollment_number'],\n",
        "            'class': request.form['class'],\n",
        "            'batch': request.form['batch'],\n",
        "            'email': request.form['email'],\n",
        "            'linkedin': request.form.get('linkedin', ''),\n",
        "            'github': request.form.get('github', ''),\n",
        "            'created_at': datetime.now()\n",
        "        }\n",
        "        students.insert_one(student_data)\n",
        "        return redirect(url_for('home'))\n",
        "    return render_template('add_student.html')"
      ],
      "metadata": {
        "id": "GEtP75E87jzu"
      },
      "execution_count": null,
      "outputs": []
    },
    {
      "cell_type": "code",
      "source": [
        "@app.route('/search', methods=['GET', 'POST'])\n",
        "def search():\n",
        "    if request.method == 'POST':\n",
        "        query = {}\n",
        "        if request.form['search_term']:\n",
        "            query['$or'] = [\n",
        "                {'name': {'$regex': request.form['search_term'], '$options': 'i'}},\n",
        "                {'enrollment_number': request.form['search_term']}\n",
        "            ]\n",
        "        results = list(students.find(query))\n",
        "        return render_template('search.html', results=results)\n",
        "    return render_template('search.html', results=None)"
      ],
      "metadata": {
        "id": "Beu0sGRr7pjq"
      },
      "execution_count": null,
      "outputs": []
    },
    {
      "cell_type": "code",
      "source": [
        "@app.route('/student/<enrollment_number>')\n",
        "def student_details(enrollment_number):\n",
        "    student = students.find_one({'enrollment_number': enrollment_number})\n",
        "    if student:\n",
        "        # Convert date to string for display\n",
        "        student['birthdate'] = student['birthdate'].strftime('%Y-%m-%d')\n",
        "        return render_template('student_details.html', student=student)\n",
        "    return \"Student not found\", 404"
      ],
      "metadata": {
        "id": "FsvHv1AN7uOv"
      },
      "execution_count": null,
      "outputs": []
    },
    {
      "cell_type": "code",
      "source": [
        "if __name__ == '__main__':\n",
        "    app.run(host='0.0.0.0', port=5000, debug=True)"
      ],
      "metadata": {
        "colab": {
          "base_uri": "https://localhost:8080/"
        },
        "id": "bjlKIHRi7yAw",
        "outputId": "acdf65a2-dcf4-4000-949b-478271f771b2"
      },
      "execution_count": null,
      "outputs": [
        {
          "output_type": "stream",
          "name": "stdout",
          "text": [
            " * Serving Flask app '__main__'\n",
            " * Debug mode: on\n"
          ]
        },
        {
          "output_type": "stream",
          "name": "stderr",
          "text": [
            "INFO:werkzeug:\u001b[31m\u001b[1mWARNING: This is a development server. Do not use it in a production deployment. Use a production WSGI server instead.\u001b[0m\n",
            " * Running on all addresses (0.0.0.0)\n",
            " * Running on http://127.0.0.1:5000\n",
            " * Running on http://172.28.0.12:5000\n",
            "INFO:werkzeug:\u001b[33mPress CTRL+C to quit\u001b[0m\n",
            "INFO:werkzeug: * Restarting with stat\n"
          ]
        }
      ]
    }
  ]
}